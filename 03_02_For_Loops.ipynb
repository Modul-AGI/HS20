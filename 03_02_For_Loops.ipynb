{
 "cells": [
  {
   "cell_type": "markdown",
   "metadata": {
    "slideshow": {
     "slide_type": "slide"
    }
   },
   "source": [
    "(forloops-1)=\n",
    "# Aufgabe 9: *for loop* Einführung"
   ]
  },
  {
   "cell_type": "markdown",
   "metadata": {
    "slideshow": {
     "slide_type": "skip"
    }
   },
   "source": [
    "## Theorie\n",
    "\n",
    "### Die Grundform\n",
    "Nirgends ist der Aspekt der Automatisierung so sichtbar wie in *for loops*. Loops sind \"Schleifen\" wo eine Aufgabe beliebig lange wiederholt wird. Auch *for loops* sind im Grunde genommen simple. Auf den ersten Blick sieht eine *for loop* aus wie eine *Function* definition (siehe {ref}`function-basics` und {ref}`function-advanced`). Im folgenden Beispiel seht ihr ein minimales Beispiel einer *for loop*."
   ]
  },
  {
   "cell_type": "code",
   "execution_count": null,
   "metadata": {
    "slideshow": {
     "slide_type": "slide"
    }
   },
   "outputs": [],
   "source": [
    "for platzhalter in [0,1,2]:\n",
    "    print(\"Iteration\",platzhalter)"
   ]
  },
  {
   "cell_type": "markdown",
   "metadata": {
    "slideshow": {
     "slide_type": "skip"
    }
   },
   "source": [
    "- `for` legt fest, dass eine For-Loop beginnt\n",
    "- Nach `for` kommt eine Platzhalter-Variabel, die ihr beliebig benennen könnt. Im obigen Beispiel lautet diese `platzhalter`\n",
    "- Nach dem Platzhalter kommt der Begriff `in`. Dieser Begriff kommt zwingend nach dem Platzhalter.\n",
    "- Nach `in` wird der \"Iterator\" festgelegt, also worüber der For-Loop iterieren soll (hier: über eine `List` mit den Werten `[0,1,2]`). \n",
    "- Danach kommt ein Doppelpunkt `:` der Zeigt: \"Nun legen wir gleich fest was im For-Loop passieren soll\" (ähnlich wie in einer *Function*)\n",
    "- Auf einer neuen Zeile wird eingerückt festgelegt, was in der *For-Loop* passieren soll. Dieser Teil kann beliebig lange sein, ein *for loop* ist dann fertig, wenn man nicht mehr eingerückt wird. In unserem Fall wird mit `print`[^print] etwas in die Konsole ausgegeben.\n",
    "- Achtung: `return()` gibt’s in For-Loops nicht!\n",
    "\n",
    "[^print]: Mit `print` können wir Variabeln in die Konsole \"ausdrucken\" lassen. Innerhalb von `print` können dazu verschiedene Variablen kommagetrennt aufgeführt werden, ohne sie mit `+` verbinden zu müssen wir damals in {ref}`function-basics`."
   ]
  },
  {
   "cell_type": "markdown",
   "metadata": {
    "slideshow": {
     "slide_type": "skip"
    }
   },
   "source": [
    "### Der Iterator\n",
    "\n",
    "Im obigen Beispiel haben wir über eine *List* iterierte, wir haben also eine Liste als Iterator verwendet. Es gibt aber noch andere \"Dinge\", über die wir iterieren können. Angenommen wir wollen den gleichen *for loop* mit den Zahlen von 0 bis 100 oder 100 bis 1'000 durchführen. Es wäre ganz schön mühsam, alle Zahlen von 0 bis 100 manuell in einer Liste zu erfassen. Zu diesem Zwecken können wir die Funktion `range` verwenden. Mit `range(3)` erstellen wir einen Iterator mit den werten 0, 1 und 2. Mit `range(100,1001)` erhalten wir die Werte von 100 bis 1'000. \n",
    "\n",
    "Der gleiche *loop* wie oben lautet mit `range` folgendermassen:"
   ]
  },
  {
   "cell_type": "code",
   "execution_count": 9,
   "metadata": {
    "slideshow": {
     "slide_type": "slide"
    }
   },
   "outputs": [
    {
     "name": "stdout",
     "output_type": "stream",
     "text": [
      "Iteration 0\n",
      "Iteration 1\n",
      "Iteration 2\n"
     ]
    }
   ],
   "source": [
    "for platzhalter in range(3):\n",
    "    print(\"Iteration\",platzhalter)"
   ]
  },
  {
   "cell_type": "markdown",
   "metadata": {
    "slideshow": {
     "slide_type": "skip"
    }
   },
   "source": [
    "### Der Platzhalter\n",
    "\n",
    "Die Platzhaltervariabel liegt immer zwischen `for` und `in`, der Name dieser Variabel könnt ihr frei wählen. Ich habe sie im obigen Beispiel `platzhalter` genannt. Speziell an dieser Variabel ist, dass sie während der Dauer des *Loops* ihren Wert verändert. Mehr dazu in {ref}`forloops-2`."
   ]
  },
  {
   "cell_type": "markdown",
   "metadata": {
    "slideshow": {
     "slide_type": "skip"
    }
   },
   "source": [
    "## Übungen"
   ]
  },
  {
   "cell_type": "markdown",
   "metadata": {
    "slideshow": {
     "slide_type": "skip"
    }
   },
   "source": [
    "### Übung 9.1\n",
    "\n",
    "Kopiere den ersten der beiden *Loops* und lasse ihn bei dir laufen. Spiele mit den Werten rum um ein Gefühl für *for loops* zu bekommen: Ergänze die Liste mit weiteren Zahlen, verändere den Namen der Platzhaltervariabel und verändere den Text, der in `print` herausgegeben wird."
   ]
  },
  {
   "cell_type": "code",
   "execution_count": null,
   "metadata": {
    "slideshow": {
     "slide_type": "skip"
    },
    "tags": [
     "remove-cell"
    ]
   },
   "outputs": [],
   "source": [
    "# Musterlösung\n",
    "\n",
    "for platzhalter in [0,1,2,5,10]:\n",
    "    print(\"Iteration\",platzhalter)\n",
    "    \n",
    "for nonsense in [0,1,2,5,10]:\n",
    "    print(\"Iteration\",nonsense)\n",
    "\n",
    "for nonsense in [0,1,2,5,10]:\n",
    "    print(\"wow\",nonsense, \"cool\")"
   ]
  },
  {
   "cell_type": "markdown",
   "metadata": {
    "slideshow": {
     "slide_type": "skip"
    }
   },
   "source": [
    "% : Erste For-Loop erstellen\n",
    "(for-gruss)=\n",
    "### Übung 9.2\n",
    "\n",
    "Konstruieren eine Liste bestehend aus 3 Namen und nenne diese Liste `namen`. Erstelle danach einen *for loop*, wo jede Person in der Liste gegrüsst wird. Nutze dafür `print`.\n"
   ]
  },
  {
   "cell_type": "code",
   "execution_count": 7,
   "metadata": {
    "slideshow": {
     "slide_type": "skip"
    },
    "tags": [
     "remove-cell"
    ]
   },
   "outputs": [
    {
     "name": "stdout",
     "output_type": "stream",
     "text": [
      "Ciao  Il Buono\n",
      "Ciao  Il Brutto\n",
      "Ciao  Il Cattivo\n"
     ]
    }
   ],
   "source": [
    "# Musterlösung\n",
    "\n",
    "namen = [\"Il Buono\", \"Il Brutto\", \"Il Cattivo\"]\n",
    "\n",
    "for name in namen:\n",
    "    print(\"Ciao \",name)"
   ]
  },
  {
   "cell_type": "markdown",
   "metadata": {
    "slideshow": {
     "slide_type": "skip"
    }
   },
   "source": [
    "```python\n",
    "# Der Output könnte etwa so aussehen\n",
    "\n",
    "Ciao  Il Buono\n",
    "Ciao  Il Brutto\n",
    "Ciao  Il Cattivo\n",
    "```"
   ]
  },
  {
   "cell_type": "markdown",
   "metadata": {
    "slideshow": {
     "slide_type": "skip"
    }
   },
   "source": [
    "% : For-Loop mit `range()`\n",
    "### Übung 9.3\n",
    "\n",
    "Kopiere den zweiten *for loop* (der mit `range`) und spiele hier mit den Werten herum. Verändere den *for loop* so, dass er die über die Werte von -5 bis +5 iteriert"
   ]
  },
  {
   "cell_type": "code",
   "execution_count": 1,
   "metadata": {
    "slideshow": {
     "slide_type": "skip"
    },
    "tags": [
     "remove-cell"
    ]
   },
   "outputs": [
    {
     "name": "stdout",
     "output_type": "stream",
     "text": [
      "Iteration -5\n",
      "Iteration -4\n",
      "Iteration -3\n",
      "Iteration -2\n",
      "Iteration -1\n",
      "Iteration 0\n",
      "Iteration 1\n",
      "Iteration 2\n",
      "Iteration 3\n",
      "Iteration 4\n",
      "Iteration 5\n"
     ]
    }
   ],
   "source": [
    "# Musterlösung\n",
    "\n",
    "# Iteriert von -5 bis +5\n",
    "for platzhalter in range(-5,6):\n",
    "    print(\"Iteration\",platzhalter)"
   ]
  },
  {
   "cell_type": "markdown",
   "metadata": {
    "slideshow": {
     "slide_type": "skip"
    }
   },
   "source": [
    "% : *for loop* mit Quadieren\n",
    "### Übung 9.4\n",
    "\n",
    "Bis jetzt haben unsere *loops* nicht viel Arbeiten müssen, lass uns das an dieser Stelle ändern. Erstelle nun einen *for loop*, welcher für die Werte -5 bis +5 folendes ausgibt:\n",
    "\n",
    "```python\n",
    "Das Quadrat von -5 ist 25\n",
    "Das Quadrat von -4 ist 16\n",
    "...\n",
    "```"
   ]
  },
  {
   "cell_type": "code",
   "execution_count": 15,
   "metadata": {
    "slideshow": {
     "slide_type": "skip"
    },
    "tags": [
     "remove-cell"
    ]
   },
   "outputs": [
    {
     "name": "stdout",
     "output_type": "stream",
     "text": [
      "Das Quadrat von -5 ist 25\n",
      "Das Quadrat von -4 ist 16\n",
      "Das Quadrat von -3 ist 9\n",
      "Das Quadrat von -2 ist 4\n",
      "Das Quadrat von -1 ist 1\n",
      "Das Quadrat von 0 ist 0\n",
      "Das Quadrat von 1 ist 1\n",
      "Das Quadrat von 2 ist 4\n",
      "Das Quadrat von 3 ist 9\n",
      "Das Quadrat von 4 ist 16\n",
      "Das Quadrat von 5 ist 25\n"
     ]
    }
   ],
   "source": [
    "# Musterlösung\n",
    "\n",
    "for platzhalter in range(-5,6):\n",
    "    print(\"Das Quadrat von\",platzhalter, \"ist\",platzhalter*platzhalter)"
   ]
  },
  {
   "cell_type": "markdown",
   "metadata": {
    "slideshow": {
     "slide_type": "skip"
    }
   },
   "source": [
    "% : *for loop* ohne Platzhaltervariabel\n",
    "### Übung 9.5\n",
    "\n",
    "Bisher haben wir die Platzhaltervariabel immer in unserem *Loop* wiederverwendet. Das müssen wir aber gar nicht, wir können den *for loop* einfach nutzen um etwas x mal zu wiederholen. Erstellen einen *for loop* der folgende beiden Sätze 5x wiederholt:\n",
    "\n",
    "```python\n",
    "Who likes to party?\n",
    "We like to party!\n",
    "Who likes to party?\n",
    "....\n",
    "```\n",
    "\n",
    "```{tip}\n",
    ":class: dropdown\n",
    "Nutze dafür zwei verschiedene `print` Befehle auf zwei Zeilen.\n",
    "```\n",
    "\n"
   ]
  },
  {
   "cell_type": "code",
   "execution_count": 16,
   "metadata": {
    "slideshow": {
     "slide_type": "skip"
    },
    "tags": [
     "remove-cell"
    ]
   },
   "outputs": [
    {
     "name": "stdout",
     "output_type": "stream",
     "text": [
      "Who likes to party?\n",
      "We like to party!\n",
      "Who likes to party?\n",
      "We like to party!\n",
      "Who likes to party?\n",
      "We like to party!\n",
      "Who likes to party?\n",
      "We like to party!\n",
      "Who likes to party?\n",
      "We like to party!\n"
     ]
    }
   ],
   "source": [
    "# Musterlösung\n",
    "\n",
    "for i in range(5):\n",
    "    print(\"Who likes to party?\")\n",
    "    print(\"We like to party!\")"
   ]
  }
 ],
 "metadata": {
  "kernelspec": {
   "display_name": "Python 3",
   "language": "python",
   "name": "python3"
  },
  "language_info": {
   "codemirror_mode": {
    "name": "ipython",
    "version": 3
   },
   "file_extension": ".py",
   "mimetype": "text/x-python",
   "name": "python",
   "nbconvert_exporter": "python",
   "pygments_lexer": "ipython3",
   "version": "3.7.8"
  }
 },
 "nbformat": 4,
 "nbformat_minor": 4
}
