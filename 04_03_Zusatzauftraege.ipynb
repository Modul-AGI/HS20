{
 "cells": [
  {
   "cell_type": "markdown",
   "metadata": {},
   "source": [
    "# Abgabe Leistungsnachweis\n",
    "\n",
    "Für den Leistungsnachweis in Coding in GIS sollt ihr einen Report abgeben. Hier sind die Rahmenbedigungen:\n",
    "\n",
    "- **Ziel**: Beantwortung der Frage \"*Welcher Anteil der Zeckenstiche befinden sich im Wald*\" unter besonderer Berücksichtigung der Datenungenauigkeit.\n",
    "- **Inhalt**: Vorgehen gemäss {numref}`fig-sim-workflow`, der Inhalt ist gegeben durch {ref}`chap-waldanteil` sowie der [Zusatzaufträge](chap-abgabe-zusatz)\n",
    "- **Struktur**: Führt die Datenanlyse durch, indem ihr den Python Code mit Markdown Text unterstützt. Beschreibt und begründet eure Analyseschritte und wie die Resultate zu interpetieren sind. Der Fokus soll auf der technischen Umsetzung liegen, nicht auf der Interpretation der Resultate.\n",
    "- **Abgabe**: \n",
    "  - Ein Jupyter-Notebook-File (\\*.ipynb) **und**\n",
    "  - Ein html-Export des Jupyter-Notebook Files:\n",
    "      - **Wichtig:** Zuerst alle Zellen ausführen (*Run > Run all cells*)\n",
    "      - Export via *File > Export Notebook as > Export Notebook to html*\n",
    "\n",
    "(chap-abgabe-zusatz)=\n",
    "## Zusatzaufträge\n",
    "\n",
    "### Auftrag 1\n",
    "\n",
    "Um den ganzen *Workflow* zu entwickeln haben wir es bisher bewusst einfach gehalten. Wir verwendeten nur 10 Zeckenstichen und führten 5 Iterationen (\"*Runs*\") durch.\n",
    " - Führe die ganze Analyse mit dem ganzen Datensatz `zeckenstiche_full.csv` (1'076 Meldungen) durch den du [hier herunterladen](https://raw.githubusercontent.com/ratnanil/codingingis/master/zeckenstiche_full.csv) kannst (Rechtsklick > Speichern Unter)\n",
    " - Erhöhe die Anzahl Iterationen von 5 auf 50\n",
    " "
   ]
  },
  {
   "cell_type": "markdown",
   "metadata": {},
   "source": [
    "### Auftrag 2\n",
    "\n",
    "Wir simulieren die Zeckenstiche, indem wir die Original-Meldungen mit der Funktion `offset_coordinate` um einen Zufallswert verschieben (siehe {ref}`ex-offset-function`). Dieser Zufallswert stammt aus einer Verteilung mit Mittelwert `0` und Standartabweichung `100`. Variere in deiner Analyse die Standartabweichung und nutze nebst `100` zwei andere Werte, Beispielsweise `10` und `1'000`. Schau dir {ref}`ex-param` nochmals an wenn du nicht mehr weisst, wie das geht.\n",
    "\n",
    "\n",
    "```{tip}\n",
    ":class: dropdown\n",
    "\n",
    "**Für Profis**: Statt das ihr den *For Loop* 3x kopiert könnt ihr auch einen verschachtelten *For Loop* konstuieren, wo der äussere *Loop* über die Radien iteriert, der innere besteht aus dem bisherigen *For Loop*. Wichtig dabei ist, dass die Liste `monte_carlo` vor dem äusseren Loop kontruiert wird und im DataFrame jeweils gespeichert wird, was für ein Radius verwendet wurde. Diese Spalte kann danach in `groupby` wie auch bei `.boxplot()` verwendet werden (siehe unten).\n",
    "```"
   ]
  },
  {
   "cell_type": "code",
   "execution_count": 1,
   "metadata": {
    "tags": [
     "remove-cell"
    ]
   },
   "outputs": [],
   "source": [
    "# Musterlösung\n",
    "\n",
    "# Benötigten Module laden #####################\n",
    "import pandas as pd\n",
    "import geopandas as gpd\n",
    "from matplotlib import pyplot as plt\n",
    "###############################################\n",
    "# Notwendige Functions definieren #############\n",
    "def offset_coordinate(old, distance = 100):\n",
    "    import random\n",
    "    new = old + random.normalvariate(0,distance)\n",
    "    return(new)\n",
    "###############################################\n",
    "\n",
    "# Daten Importieren ###########################\n",
    "zeckenstiche_full = pd.read_csv(\"zeckenstiche_full.csv\")\n",
    "wald = gpd.read_file(\"wald.gpkg\")\n",
    "###############################################\n",
    "\n",
    "radii = [10,100,1000]\n",
    "monte_carlo2 = []\n",
    "\n",
    "for radius in radii:\n",
    "    for i in range(10):\n",
    "        zeckenstiche_full[\"x_sim\"] = zeckenstiche_full[\"x\"].apply(offset_coordinate)\n",
    "        zeckenstiche_full[\"y_sim\"] = zeckenstiche_full[\"y\"].apply(offset_coordinate)\n",
    "        zeckenstiche_full[\"Run\"] = i\n",
    "        zeckenstiche_full[\"Radius\"] = radius\n",
    "        monte_carlo2.append(zeckenstiche_full.copy())\n",
    "    \n",
    "monte_carlo_df2 = pd.concat(monte_carlo2)\n",
    "\n",
    "monte_carlo_gpd2 = gpd.GeoDataFrame(monte_carlo_df2,\n",
    "                                    geometry=gpd.points_from_xy(monte_carlo_df2['x_sim'], monte_carlo_df2['y_sim']),\n",
    "                                    crs = 2056) \n",
    "\n",
    "monte_carlo_join2 = gpd.sjoin(monte_carlo_gpd2, wald)\n"
   ]
  },
  {
   "cell_type": "markdown",
   "metadata": {
    "tags": [
     "remove-cell"
    ]
   },
   "source": [
    "```python\n",
    "monte_carlo_join2.to_file(\"monte_carlo_join2.gpkg\", driver = \"GPKG\")\n",
    "```"
   ]
  },
  {
   "cell_type": "code",
   "execution_count": 5,
   "metadata": {
    "tags": [
     "remove-cell"
    ]
   },
   "outputs": [],
   "source": [
    "monte_carlo_join2 = gpd.read_file(\"monte_carlo_join2.gpkg\")"
   ]
  },
  {
   "cell_type": "code",
   "execution_count": 3,
   "metadata": {},
   "outputs": [
    {
     "data": {
      "text/plain": [
       "<AxesSubplot:title={'center':'ja_anteil'}, xlabel='Radius'>"
      ]
     },
     "execution_count": 3,
     "metadata": {},
     "output_type": "execute_result"
    },
    {
     "data": {
      "image/png": "[encoded data removed]",
      "text/plain": [
       "<Figure size 432x288 with 1 Axes>"
      ]
     },
     "metadata": {
      "needs_background": "light"
     },
     "output_type": "display_data"
    }
   ],
   "source": [
    "\n",
    "results = monte_carlo_join2.groupby([\"Radius\",\"Run\",\"Wald_text\"]).size().unstack(fill_value = 0).assign(ja_anteil = lambda x: x.ja/(x.ja+x.nein))\n",
    "                                                                             \n",
    "results.boxplot(column = \"ja_anteil\",by = \"Radius\", color = \"blue\")"
   ]
  },
  {
   "cell_type": "code",
   "execution_count": null,
   "metadata": {},
   "outputs": [],
   "source": []
  }
 ],
 "metadata": {
  "kernelspec": {
   "display_name": "Python 3",
   "language": "python",
   "name": "python3"
  },
  "language_info": {
   "codemirror_mode": {
    "name": "ipython",
    "version": 3
   },
   "file_extension": ".py",
   "mimetype": "text/x-python",
   "name": "python",
   "nbconvert_exporter": "python",
   "pygments_lexer": "ipython3",
   "version": "3.7.8"
  }
 },
 "nbformat": 4,
 "nbformat_minor": 4
}
