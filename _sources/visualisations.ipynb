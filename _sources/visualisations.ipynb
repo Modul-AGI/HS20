{
 "cells": [
  {
   "cell_type": "code",
   "execution_count": 1,
   "metadata": {},
   "outputs": [],
   "source": [
    "\n",
    "import pandas as pd\n",
    "\n",
    "from matplotlib import pyplot as plt"
   ]
  },
  {
   "cell_type": "code",
   "execution_count": 10,
   "metadata": {},
   "outputs": [
    {
     "data": {
      "text/html": [
       "<div>\n",
       "<style scoped>\n",
       "    .dataframe tbody tr th:only-of-type {\n",
       "        vertical-align: middle;\n",
       "    }\n",
       "\n",
       "    .dataframe tbody tr th {\n",
       "        vertical-align: top;\n",
       "    }\n",
       "\n",
       "    .dataframe thead th {\n",
       "        text-align: right;\n",
       "    }\n",
       "</style>\n",
       "<table border=\"1\" class=\"dataframe\">\n",
       "  <thead>\n",
       "    <tr style=\"text-align: right;\">\n",
       "      <th></th>\n",
       "      <th>tag</th>\n",
       "      <th>n_questions</th>\n",
       "    </tr>\n",
       "  </thead>\n",
       "  <tbody>\n",
       "    <tr>\n",
       "      <th>1</th>\n",
       "      <td>pandas / geopandas</td>\n",
       "      <td>171247</td>\n",
       "    </tr>\n",
       "    <tr>\n",
       "      <th>3</th>\n",
       "      <td>matplotlib</td>\n",
       "      <td>52022</td>\n",
       "    </tr>\n",
       "    <tr>\n",
       "      <th>2</th>\n",
       "      <td>jupyter / jupyter-lab / jupyter-notebook</td>\n",
       "      <td>16474</td>\n",
       "    </tr>\n",
       "    <tr>\n",
       "      <th>4</th>\n",
       "      <td>conda / anaconda / miniconda</td>\n",
       "      <td>13954</td>\n",
       "    </tr>\n",
       "    <tr>\n",
       "      <th>0</th>\n",
       "      <td>arcpy / arcgis / esri</td>\n",
       "      <td>3246</td>\n",
       "    </tr>\n",
       "  </tbody>\n",
       "</table>\n",
       "</div>"
      ],
      "text/plain": [
       "                                        tag  n_questions\n",
       "1                        pandas / geopandas       171247\n",
       "3                                matplotlib        52022\n",
       "2  jupyter / jupyter-lab / jupyter-notebook        16474\n",
       "4              conda / anaconda / miniconda        13954\n",
       "0                     arcpy / arcgis / esri         3246"
      ]
     },
     "execution_count": 10,
     "metadata": {},
     "output_type": "execute_result"
    }
   ],
   "source": [
    "so_tags = pd.read_csv(\"stackoverflowtags.csv\")\n",
    "\n",
    "so_tags = so_tags.sort_values(\"n_questions\", ascending = False)\n",
    "\n",
    "so_tags"
   ]
  },
  {
   "cell_type": "code",
   "execution_count": 19,
   "metadata": {},
   "outputs": [
    {
     "data": {
      "image/png": "[encoded data removed]",
      "text/plain": [
       "<Figure size 432x288 with 1 Axes>"
      ]
     },
     "metadata": {
      "needs_background": "light"
     },
     "output_type": "display_data"
    }
   ],
   "source": [
    "plt.barh(so_tags[\"tag\"], so_tags[\"n_questions\"])\n",
    "\n",
    "plt.gca().invert_yaxis()\n",
    "\n",
    "plt.savefig('so_tags.jpg',bbox_inches=\"tight\", pad_inches = 1)"
   ]
  },
  {
   "cell_type": "code",
   "execution_count": 12,
   "metadata": {},
   "outputs": [
    {
     "data": {
      "image/png": "[encoded data removed]",
      "text/plain": [
       "<Figure size 432x288 with 1 Axes>"
      ]
     },
     "metadata": {
      "needs_background": "light"
     },
     "output_type": "display_data"
    }
   ],
   "source": [
    "vals = pd.read_csv(\"mentimeter_vote.csv\",delimiter=\";\")[\"value\"]\n",
    "\n",
    "vals1 = [str(x)[0]+\".\"+str(x)[1] for x in vals]\n",
    "binwidth = 2\n",
    "\n",
    "\n",
    "def mybins(vals, binwidth):\n",
    "    range(min(vals), max(vals) + binwidth, binwidth)\n",
    "\n",
    "plt.hist(vals, bins = mybins(vals,2))\n",
    "\n",
    "plt.axvline(x=38,color = \"black\")\n",
    "\n",
    "plt.savefig('stand_CodinginGIS1.jpg',bbox_inches=\"tight\")"
   ]
  },
  {
   "cell_type": "code",
   "execution_count": null,
   "metadata": {},
   "outputs": [],
   "source": []
  }
 ],
 "metadata": {
  "kernelspec": {
   "display_name": "Python 3",
   "language": "python",
   "name": "python3"
  },
  "language_info": {
   "codemirror_mode": {
    "name": "ipython",
    "version": 3
   },
   "file_extension": ".py",
   "mimetype": "text/x-python",
   "name": "python",
   "nbconvert_exporter": "python",
   "pygments_lexer": "ipython3",
   "version": "3.7.8"
  }
 },
 "nbformat": 4,
 "nbformat_minor": 4
}
