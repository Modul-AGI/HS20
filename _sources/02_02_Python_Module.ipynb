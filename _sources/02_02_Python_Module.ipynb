{
 "cells": [
  {
   "cell_type": "markdown",
   "metadata": {},
   "source": [
    "# Python Modules"
   ]
  },
  {
   "cell_type": "markdown",
   "metadata": {},
   "source": [
    "## Erweiterung installieren\n",
    "\n",
    "In R ist die Installation einer *Library* selbst ein R-Befehl und wird innerhalb von R ausgeführt. In Python ist dies leider etwas komplizierter, es braucht für die Installation einer Python library eine Zusatzsoftware (`conda`).\n",
    "\n",
    "````{panels}\n",
    "in R:\n",
    "\n",
    "```r \n",
    "install.packages(\"malerin\")\n",
    "``` \n",
    "\n",
    "---\n",
    "In Python*:\n",
    "```bash\n",
    "conda install -c conda-foge malerin \n",
    "```\n",
    "````\n",
    "\\* in Python gibt es noch andere Wege, Erweiterungen zu installieren (z.B. mit `pip`). Wir lassen sie der Einfachheit an dieser Stelle aber weg.\n",
    "\n",
    "In diesem Beispiel heisst die Erweiterung `malerin`. Das *Reposoritory* geben wir in R meistens nicht an, weil in RStudio bereits eine Default-Adresse hinterlegt ist. \n",
    "\n",
    "\n",
    "## Erweiterung laden\n",
    "\n",
    "Um eine Erweiterung nutzen zu können, müssen wir diese sowohl in R wie auch in Python in die aktuelle Session importieren. In R und Python sehen die Befehle folgendermassen aus:\n",
    "\n",
    "\n",
    "````{panels}\n",
    "in R:\n",
    "\n",
    "```r\n",
    "library(malerin)\n",
    "```\n",
    "---\n",
    "in Python:\n",
    "```python\n",
    "import malerin\n",
    "```\n",
    "\n",
    "````\n",
    "\n",
    "## Erweiterung verwenden\n",
    "\n",
    "Um eine geladene *Function* in R zu verwenden, kann ich diese *Function* \"einfach so\" aufrufen. In Python hingegen muss ich die Erweiterung, in der die *Function* enthalten ist, der *Function* mit einem Punkt voranstellen. Das sieht also folgendermassen aus:\n",
    "\n",
    "````{panels}\n",
    "in R:\n",
    "```r\n",
    "wand_bemalen()\n",
    "```\n",
    "---\n",
    "in Python:\n",
    "```python\n",
    "malerin.wand_bemalen()\n",
    "```\n",
    "````\n",
    "\n",
    "Das ist zwar umständlicher, aber dafür weniger Fehleranfällig. Angenommen, eine andere Erweiterung (z.b. `maurer`) hat ebenfalls eine *Function* `wand_bemalen()`. Dann ist in R nicht klar, welche Erweiterung gemeint ist, was zu Missverständnissen führen kann. In Python ist im obigen Beispiel unmissverständlich, dass ich `wand_bemalen()` aus dem Modul `malerin` meine."
   ]
  },
  {
   "cell_type": "markdown",
   "metadata": {},
   "source": [
    "## Modul mit Alias importieren\n",
    "\n",
    "Da es umständlich sein kann, jedesmal `malerin.wand_bemalen()` voll auszuschreiben, können wir beim Importieren dem Modul auch einen \"Alias\" vergeben. Dies kann beispielsweise folgendermassen aussehen:\n",
    "\n",
    "```python\n",
    "import malerin as mm\n",
    "mm.wand_bemalen()\n",
    "```\n",
    "\n",
    "Dies ist deshalb wichtig, weil sich für viele Module haben sich bestimmte Aliasse eingebürgert haben. Ihr macht sich das Leben leichter, wenn ihr euch an diese Konventionen (welche ihr noch kennenlernen werdet) hält."
   ]
  },
  {
   "cell_type": "markdown",
   "metadata": {},
   "source": [
    "## Einzelne *Function* importieren\n",
    "\n",
    "Es gibt noch die Variante, eine explizite *Function* aus einem Modul zu laden. Wenn man dies macht, kann man die Funktion ohne vorangestelltes Modul nutzen (genau wie in R). Dies sieht folgendermassen aus:\n",
    "\n",
    "```python\n",
    "from malerin import wand_bemalen\n",
    "wand_bemalen()\n",
    "```"
   ]
  },
  {
   "cell_type": "markdown",
   "metadata": {},
   "source": [
    "## Alle *Functions* importieren\n",
    "\n",
    "Zusätzlich ist es möglich, **alle** *Functions* aus einem Modul so zu importieren, dass der Modulname nicht mehr erwähnt werden muss. Diese Notation wird nicht empfohlen und ist hier nur erwähnt, falls ihr diese Schreibweise mal antrifft. \n",
    "\n",
    "```python\n",
    "from malerin import *\n",
    "wand_bemalen()\n",
    "```"
   ]
  },
  {
   "cell_type": "markdown",
   "metadata": {
    "tags": [
     "remove-cell"
    ]
   },
   "source": [
    "ich habe diesen Teil entfernt\n",
    "\n",
    "```{admonition} Das wichtigste in Kürze\n",
    ":class: attention\n",
    "- Erweiterungen heissen in Python *Modules*\n",
    "- Vor der erstmaligen Nutzung muss ein *Module* installiert werden\n",
    "- Vor der Verwendung in einer Session muss ein *Module* importiert werden\n",
    "- Ein *Module* wird in Python mit `import modulename` geladen\n",
    "- Module müssen für **jede Session** importiert werden!\n",
    "- Eine *Function* aus einem *Module* wird folgendermassen aufgerufen: `modulname.function()`\n",
    "- Ein Modul kann auch mit einem Alias importiert werden `import modul as modulalias`\n",
    "- Eine Einzelne *Function* kann aus einem Modul explizit importiert werden: `from malerin import wand_bemalen`\n",
    "- Mit einem Platzhaltersymbol \\* können auch alle *Functions* aus einem Modul importiert werden: `from malerin import *`\n",
    "```"
   ]
  }
 ],
 "metadata": {
  "kernelspec": {
   "display_name": "Python 3",
   "language": "python",
   "name": "python3"
  },
  "language_info": {
   "codemirror_mode": {
    "name": "ipython",
    "version": 3
   },
   "file_extension": ".py",
   "mimetype": "text/x-python",
   "name": "python",
   "nbconvert_exporter": "python",
   "pygments_lexer": "ipython3",
   "version": "3.7.8"
  }
 },
 "nbformat": 4,
 "nbformat_minor": 4
}
