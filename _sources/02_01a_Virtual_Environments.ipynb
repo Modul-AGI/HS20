{
 "cells": [
  {
   "cell_type": "markdown",
   "metadata": {},
   "source": [
    "# Aufgabe 5: Virtual Environments / Conda\n",
    "\n",
    "Um *conda* zu verstehen und nutzen zu können, müsst ihr das Konzept von \"Virtual Environments\" (siehe Vorlesung) einigermassen verstanden haben. Sollte dies nicht der Fall sein, meldest du dich am besten beim Dozenten oder schaust dir nochmals die Vorlesungsfolien an.\n",
    "\n",
    "Diese nächsten Schritte zur Nutzung von *conda* wurden bereits in der Vorlesung beschrieben. Sie sind aber an dieser stelle nochmal erläutert und mit ein paar zusätzlichen Angaben (z.B. Links) erweitert.\n",
    "\n",
    "**Schritt 1: Conda installieren**\n",
    "\n",
    "Normalerweise ist der erste Schritt, *conda* herunterzuladen und installieren (ich empfehle dazu [miniconda](https://docs.conda.io/en/latest/miniconda.html), nicht [anaconda](https://www.anaconda.com/products/individual)). Wenn ihr aber ArcGIS Pro installiert habt, ist dieser Schritt nicht nötig (da *conda* mit ArcGIS mitinstalliert wird).\n",
    "\n",
    "**Schritt 2: Systemvariable setzen**\n",
    "\n",
    "*Conda* ist eine Software, die sich nur von der Kommandozeile (Windows: *cmd*) aus bedienen lässt. Dafür muss *cmd* aber wissen, WO conda installiert ist. Um zu Prüfen, ob dies der fall ist kannst du die Konsole starten (Windowstaste > cmd) und folgende Zeile einfügen\n",
    "\n",
    "```bash\n",
    "conda --version\n",
    "```\n",
    "\n",
    "Wenn du eine Versionsnummer siehst kannst du zum nächsten Schritt übergehen. Ansonsten mussst du die Systemvariable `PATH` zuerst noch mit dem Pfad zur *conda* installation ergänzen. Siehe dazu die Vorlesungsfolie. Überprüfe mit `conda --version` ob das setzen der Systemvariable erfolgreich war.\n",
    "\n",
    "**Schritt 3: Virtual Environment erstellen und aktivieren**\n",
    "\n",
    "Nun kannst du mit *conda* eine neue Virtual Environment erstellen. Gibt dazu folgenden Befehl in die Konsole ein:\n",
    "\n",
    "```bash\n",
    "conda create --name codingingis\n",
    "```\n",
    "Die Frage `Proceed ([y]/n)` kannst du mit `y` bestätigen. Anschlissend kannst du mit dem Befehl `activate codingingis` die neu erstellte Environment \"einschalten\".\n",
    "\n",
    "\n",
    "**Schritt 4: Module installieren**\n",
    "\n",
    "Nun kannst du die benötigten Module installieren. Beispielsweise ist Jupyter Labs ebenfalls ein Python Modul, welches sich über *conda* installieren lässt. Dazu braucht es folgenden Befehl:\n",
    "\n",
    "```bash\n",
    "conda install -c conda-forge jupyterlab\n",
    "```\n",
    "\n",
    "Ersetze nun `jupyterlab` mit dem namen der anderen Module, die du für den Unterricht noch brauchst. Starte mal mit folgenden `pandas`, `matplotlib`, `geopandas`, `descartes`, fehlende Module kannst du später immer noch nach installieren.\n",
    "\n",
    "Nun kannst du Jupyter Lab mit folgendem Befehl starten\n",
    "\n",
    "```bash\n",
    "jupyter lab\n",
    "```"
   ]
  }
 ],
 "metadata": {
  "kernelspec": {
   "display_name": "Python 3",
   "language": "python",
   "name": "python3"
  },
  "language_info": {
   "codemirror_mode": {
    "name": "ipython",
    "version": 3
   },
   "file_extension": ".py",
   "mimetype": "text/x-python",
   "name": "python",
   "nbconvert_exporter": "python",
   "pygments_lexer": "ipython3",
   "version": "3.7.8"
  }
 },
 "nbformat": 4,
 "nbformat_minor": 4
}
