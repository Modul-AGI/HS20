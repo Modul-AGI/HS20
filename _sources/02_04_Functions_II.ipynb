{
 "cells": [
  {
   "cell_type": "markdown",
   "metadata": {},
   "source": [
    "# *Function* Advanced (Aufgabe 7)\n",
    "\n",
    "## Theorie\n",
    "\n",
    "### Standart-Werte\n",
    "\n",
    "Wenn Parameter Default-Argumente zugewiesen werden, dann werden sie für den Nutzer automatisch zu optionalen Parametern. \n",
    "Wenn eine neue *Function* erstellt wird, kommen die Optionalen Parameter immer am Schluss. Also so:"
   ]
  },
  {
   "cell_type": "code",
   "execution_count": 11,
   "metadata": {},
   "outputs": [],
   "source": [
    "def gruezi(nachname, anrede = \"Herr oder Frau\"):\n",
    "    return(\"Guten Tag, \"+anrede+\" \"+nachname)"
   ]
  },
  {
   "cell_type": "markdown",
   "metadata": {},
   "source": [
    "Wenn wir versuchen die optionalen Parameter an den Anfang zu stellen, meldet sich Python mit einem Error:\n",
    "\n",
    "```python\n",
    "def gruezi(anrede = \"Herr oder Frau\", nachname):\n",
    "    return(\"Guten Tag, \"+anrede+\" \"+nachname)\n",
    "```"
   ]
  },
  {
   "cell_type": "markdown",
   "metadata": {},
   "source": [
    "````{error} \n",
    "```python\n",
    "File \"<ipython-input-12-b48869b8c585>\", line 1\n",
    "    def gruezi(anrede = \"Herr oder Frau\", nachname):\n",
    "              ^\n",
    "SyntaxError: non-default argument follows default argument\n",
    "```\n",
    "````"
   ]
  },
  {
   "cell_type": "markdown",
   "metadata": {},
   "source": [
    "### Reihenfolge der Argumente\n",
    "\n",
    "Wenn die richtige Reihenfolge eingehalten wird, müssen die Parameter (z.B: `anrede=`, `nachname=`) nicht spezifiziert werden. Zum Beispiel:"
   ]
  },
  {
   "cell_type": "code",
   "execution_count": 8,
   "metadata": {},
   "outputs": [
    {
     "data": {
      "text/plain": [
       "'Guten Tag, Herr van Rossum'"
      ]
     },
     "execution_count": 8,
     "metadata": {},
     "output_type": "execute_result"
    }
   ],
   "source": [
    "gruezi(\"van Rossum\", \"Herr\")"
   ]
  },
  {
   "cell_type": "markdown",
   "metadata": {},
   "source": [
    "Wenn wir die Reihenfolge verändern, ist der Output unserer Funktion fehlerhaft:"
   ]
  },
  {
   "cell_type": "code",
   "execution_count": null,
   "metadata": {},
   "outputs": [],
   "source": [
    "gruezi(\"Herr\",\"van Rossum\")"
   ]
  },
  {
   "cell_type": "markdown",
   "metadata": {},
   "source": [
    "Aber wenn die Parameter der Argumente spezifiziert werden, ist die Reihenfolge wiederum egal:"
   ]
  },
  {
   "cell_type": "code",
   "execution_count": 9,
   "metadata": {},
   "outputs": [
    {
     "data": {
      "text/plain": [
       "'Guten Tag, Herr von Rossum'"
      ]
     },
     "execution_count": 9,
     "metadata": {},
     "output_type": "execute_result"
    }
   ],
   "source": [
    "gruezi(anrede = \"Herr\", nachname = \"van Rossum\")"
   ]
  },
  {
   "cell_type": "markdown",
   "metadata": {},
   "source": [
    "### Globale und Lokale Variabeln\n",
    "\n",
    "Innerhalb einer *Function* können nur die Variabeln verwendet werden, die der *Function* als Argumente übergeben werden (oder innerhalb der *Funktion* erstellt werden). Diese nennt man \"lokale\" Variabeln, sie sind lokal in der *Function* vorhanden. Im Gegensatz dazu stehen \"globale\" Variabeln, diese sind Teil der aktuellen Session. Folgende Vorgehensweise erzeugt also eine Fehlermeldung:\n",
    "\n",
    "\n",
    "```python\n",
    "# Wir definieren globale Variabeln\n",
    "nachname = \"van Rossum\"\n",
    "anrede = \"Herr\"\n",
    "\n",
    "def gruezi(anrede = \"Herr oder Frau\", nachname):\n",
    "    # nun versuchen wir in der Function auf diese\n",
    "    # globalen Variabeln zu zu greifen\n",
    "    return(\"Guten Tag, \"+anrede+\" \"+nachname)\n",
    "\n",
    "gruezi()\n",
    "```\n",
    "\n",
    "Dies erzeugt jedoch eine Fehlermeldung:\n",
    "````{error}\n",
    "```python\n",
    "---------------------------------------------------------------------------\n",
    "TypeError                                 Traceback (most recent call last)\n",
    "<ipython-input-16-fc94d019a607> in <module>()\n",
    "      2 anrede = \"Herr\"\n",
    "      3 \n",
    "----> 4 gruezi()\n",
    "\n",
    "TypeError: gruezi() missing 1 required positional argument: 'nachname'\n",
    "```\n",
    "````\n",
    "\n",
    "### Lambda-Function\n",
    "\n",
    "Mit dem Begriff `lambda` kann das erstellen einer Funktion verkürzt werden. Nehmen wir nochmal die *Function* `gruezi()`:\n",
    "\n",
    "```python\n",
    "def gruezi(nachname, anrede):\n",
    "    return(\"Guten Tag, \"+anrede+\" \"+nachname)\n",
    "```\n",
    "\n",
    "Mit `lambda` kann die *Function* folgendermassen geschrieben werden:"
   ]
  },
  {
   "cell_type": "code",
   "execution_count": 13,
   "metadata": {},
   "outputs": [
    {
     "data": {
      "text/plain": [
       "'Guten Tag, Herr van Rossum'"
      ]
     },
     "execution_count": 13,
     "metadata": {},
     "output_type": "execute_result"
    }
   ],
   "source": [
    "gruezi = lambda nachname, anrede: \"Guten Tag, \"+anrede +\" \"+ nachname\n",
    "\n",
    "gruezi(\"van Rossum\", \"Herr\")"
   ]
  },
  {
   "cell_type": "markdown",
   "metadata": {},
   "source": [
    "## Übungen"
   ]
  },
  {
   "cell_type": "markdown",
   "metadata": {},
   "source": [
    "Im Hinblick auf die kommende Woche entwickeln wir in dieser Übung eine *Function*, welches x/y Koordinaten zufällig in einem definierten Umkreis verschiebt. \n",
    "\n",
    "Um diese Function zu enwickeln nehmen wir die Koordinaten der alten Sternwarte Bern beziehungsweise deren Gedenktafel (s.u.).\n"
   ]
  },
  {
   "cell_type": "code",
   "execution_count": 5,
   "metadata": {},
   "outputs": [],
   "source": [
    "x = 2600000\n",
    "y = 1200000\n",
    "accuracy = 60"
   ]
  },
  {
   "cell_type": "markdown",
   "metadata": {},
   "source": [
    "```{figure} sternwarte.jpg\n",
    "Links: Koordinatensystem der Schweiz, mit dem (alten) Referenzwert Sternwarte Bern. Quelle: lv95.bve.be.ch\n",
    "rechts: Gedenktafel an die Alte Sternwarte Bern. Quelle: aiub.unibe.ch \n",
    "```\n",
    "\n",
    "Das Ziel ist es also, dass wir eine *Function* haben die uns einen Zufälligen Punkt in der Nähe der alten Sternwarte vorschlägt."
   ]
  },
  {
   "cell_type": "markdown",
   "metadata": {},
   "source": [
    "### Übung 7.1: Zufallswerte generieren\n",
    "\n",
    "Es sind verschiedene Methoden Denkbar, wie wir ein neues `x`,`y` Koordinatenpaar aus den bestehenden Koordinaten bestimmen. Die einfachste Variante ist es wohl, zu jedem Achsenwert (`x`/`y`) einzeln einen Zufallswert zu addieren, z.B. von -100 bis +100.\n",
    "\n",
    "Wie generiert man aber Zufallszahlen in Python? Versuche dies selbst mittels deiner Lieblingssuchmaschine herauszufinden."
   ]
  },
  {
   "cell_type": "code",
   "execution_count": 7,
   "metadata": {
    "tags": [
     "remove-cell"
    ]
   },
   "outputs": [
    {
     "data": {
      "text/plain": [
       "74.62398736696227"
      ]
     },
     "execution_count": 7,
     "metadata": {},
     "output_type": "execute_result"
    }
   ],
   "source": [
    "# Musterlösung\n",
    "\n",
    "import random\n",
    "\n",
    "# Uniforme verteilte Werte (zw. -100 bis +100)\n",
    "random.randrange(-100,100)\n",
    "\n",
    "# Normalverteilte Werte mit \n",
    "# Mittelwert 0 und\n",
    "# Standartabweichung 100  \n",
    "# Achtung: bei dieser Standartabweichung sind ca 30% der Werte > 100!\n",
    "random.normalvariate(0,100)"
   ]
  },
  {
   "cell_type": "markdown",
   "metadata": {},
   "source": [
    "### Übung 7.2: Zufallswerte addieren\n",
    "\n",
    "Addiere nun die Zufallszahlen zu den Dummy-Werten um `x_neu` und `y_neu` zu erhalten."
   ]
  },
  {
   "cell_type": "code",
   "execution_count": 39,
   "metadata": {
    "tags": [
     "remove-cell"
    ]
   },
   "outputs": [],
   "source": [
    "# Musterlösung\n",
    "\n",
    "x_neu = x+random.normalvariate(0,100)\n",
    "y_neu = y+random.normalvariate(0,100)"
   ]
  },
  {
   "cell_type": "code",
   "execution_count": 40,
   "metadata": {},
   "outputs": [
    {
     "name": "stdout",
     "output_type": "stream",
     "text": [
      "2600073.8914805483 1199911.8667191742\n"
     ]
    }
   ],
   "source": [
    "print(x_neu, y_neu)"
   ]
  },
  {
   "cell_type": "markdown",
   "metadata": {},
   "source": [
    "### Übung 7.3: Arbeitsschritte in eine *Function* verwandeln\n",
    "\n",
    "Jetzt sind die Einzelschritte zur Verschiebung eines Punktes klar. Da wir dies für viele Punkte machen müssen, ist es sinnvoll, aus den Arbeitsschritten eine *Function* zu erstellen. Erstelle eine Function `point_offset` welche als Input eine `x` **oder** `y`Koordinate annimmt und eine leicht verschobene Koordinate zurück gibt. Wenn du möchtest kannst du die Distanz der Verschiebung als optionalen Parameter (mit *Default = 100*) definieren. "
   ]
  },
  {
   "cell_type": "code",
   "execution_count": 8,
   "metadata": {
    "tags": [
     "remove-cell"
    ]
   },
   "outputs": [
    {
     "data": {
      "text/plain": [
       "2600008.426526693"
      ]
     },
     "execution_count": 8,
     "metadata": {},
     "output_type": "execute_result"
    }
   ],
   "source": [
    "# Musterlösung\n",
    "\n",
    "def offset_coordinate(old, distance = 100):\n",
    "    new = old + random.normalvariate(0,distance)\n",
    "\n",
    "    return(new)\n",
    "\n",
    "\n",
    "offset_coordinate(x, 100)"
   ]
  },
  {
   "cell_type": "markdown",
   "metadata": {},
   "source": [
    "### Übung 7.4: Output visualisieren\n",
    "\n",
    "Nun ist es wichtig, dass wir unser Resultat visuell überprüfen. Im Beispiel unten wende ich die *Function* `offset_coordinate()` 1000x auf die Koordianten der alten Sternwarte an. Für diesen Schritt gebe ich euch den fertigen Code, da ihr die dafür benötigten Techniken noch nicht gelernt habt. Füge diesen Code in dein Script ein und führe ihn aus. Allenfalls musst du den Code leicht an deine Situation anpassen."
   ]
  },
  {
   "cell_type": "code",
   "execution_count": 76,
   "metadata": {},
   "outputs": [
    {
     "data": {
      "image/png": "[encoded data removed]",
      "text/plain": [
       "<Figure size 432x288 with 1 Axes>"
      ]
     },
     "metadata": {
      "needs_background": "light"
     },
     "output_type": "display_data"
    }
   ],
   "source": [
    "from matplotlib import pyplot as plt \n",
    "import pandas as pd\n",
    "\n",
    "\n",
    "fig = pd.DataFrame({\"x\":[offset_coordinate(x, 200) for rand in range(1,1000)], \"y\": [offset_coordinate(y, 200) for rand in range(1,1000)]}).plot.scatter(\"x\",\"y\", color = \"red\", alpha = 0.2)\n",
    "\n",
    "\n",
    "pd.DataFrame({\"x\":[offset_coordinate(x, 50) for rand in range(1,500)], \"y\": [offset_coordinate(y, 50) for rand in range(1,500)]}).plot.scatter(\"x\",\"y\", color = \"blue\", alpha = 0.2, ax = fig)\n",
    "\n",
    "plt.scatter(x,y, c = \"red\")\n",
    "fig.set_aspect(\"equal\", \"box\")\n",
    "plt.show()   "
   ]
  }
 ],
 "metadata": {
  "kernelspec": {
   "display_name": "Python 3",
   "language": "python",
   "name": "python3"
  },
  "language_info": {
   "codemirror_mode": {
    "name": "ipython",
    "version": 3
   },
   "file_extension": ".py",
   "mimetype": "text/x-python",
   "name": "python",
   "nbconvert_exporter": "python",
   "pygments_lexer": "ipython3",
   "version": "3.7.8"
  }
 },
 "nbformat": 4,
 "nbformat_minor": 4
}
