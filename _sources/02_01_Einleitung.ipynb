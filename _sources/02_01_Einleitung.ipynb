{
 "cells": [
  {
   "cell_type": "markdown",
   "metadata": {},
   "source": [
    "# Einleitung zu diesem Block\n",
    "\n",
    "Letzte Woche habt ihr Jupyter Labs kennen gelernt und erste Kontakte mit Python gehabt. Um den Einsteig möglichst einfach zu halten hattet ihr bisher auf dem ZHAW Jupyter-Lab Server (JupyterHub) gearbeitet. \n",
    "\n",
    "Diese Woche wollen wir versuchen, dass ihr *lokal* auf euren eigenen Rechnern arbeitet. Es ist extrem hilfreich, eine eigene, lokale installation von Python zu haben die man gut verwalten kann. Es ist aber auch nicht ganz trivial, und einige von euch müsst allenfalls bei der Server-basierten Lösung bleiben."
   ]
  },
  {
   "cell_type": "markdown",
   "metadata": {},
   "source": [
    "```{admonition} Übungsziele\n",
    ":class: attention\n",
    "- Conda beherrschen\n",
    "  - neue *Environment* erstellen\n",
    "  - *Modules* in eine *Environment* installieren\n",
    "  - *Jupyter Lab* in einer *Environment* nutzen\n",
    "- *Functions* kennenlernen und beherrschen\n",
    "- *Function* auf eine ganze Spalte einer DataFrame anwenden können.\n",
    "```"
   ]
  }
 ],
 "metadata": {
  "kernelspec": {
   "display_name": "Python 3",
   "language": "python",
   "name": "python3"
  },
  "language_info": {
   "codemirror_mode": {
    "name": "ipython",
    "version": 3
   },
   "file_extension": ".py",
   "mimetype": "text/x-python",
   "name": "python",
   "nbconvert_exporter": "python",
   "pygments_lexer": "ipython3",
   "version": "3.7.8"
  }
 },
 "nbformat": 4,
 "nbformat_minor": 4
}
