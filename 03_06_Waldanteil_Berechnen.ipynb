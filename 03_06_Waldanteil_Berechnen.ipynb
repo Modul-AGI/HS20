{
 "cells": [
  {
   "cell_type": "code",
   "execution_count": 1,
   "metadata": {
    "tags": [
     "remove-cell"
    ]
   },
   "outputs": [],
   "source": [
    "%matplotlib inline"
   ]
  },
  {
   "cell_type": "markdown",
   "metadata": {},
   "source": [
    "(chap-waldanteil)=\n",
    "# Aufgabe 14: Waldanteil berechnen\n",
    "\n",
    "Es ist so weit! Nun habt ihr alles gelernt um den 4. und finalen Schritt unserer Monte-Carlo Simulation umzusetzen. Ihr habt jetzt die gleiche Ausgangslage, mit der ihr den Themenblock \"Datenqualität und Unsicherheiten\" gestartet habt. \n",
    "\n",
    "Schau dir an dieser Stelle {numref}`monte-carlo-workflow` nochmal an um den ganzen Arbeitsprozess zu überblicken. In diesem Schritt wollen wir also den Anteil der Zeckenstiche pro \"Simulationsrunde\", sprich pro Loop Iteration, ermitteln. Dazu iterieren wir über die Liste `monte_carlo` und...\n",
    "\n",
    "1. konvertieren die *DataFrame* in eine *GeoDataFrame* \n",
    "2. ermitteln für jeden Simulierten Punkt ob er sich im Wald befindet oder nicht\n",
    "3. ermitteln der Anteil der Zeckenstiche im Wald\n",
    "4. speichern diesen Wert in einer neuen Liste (z.B. `anteil_wald`) ab\n",
    "\n",
    "Startet auch diese Aufgabe mit einem frischen Jupyter Notebook. Mit dem nachstehenden Code bringt kommt ihr auf den Stand, den ich oben beschrieben habe und wir uns gemeinsam erarbeitet haben."
   ]
  },
  {
   "cell_type": "code",
   "execution_count": 2,
   "metadata": {
    "tags": [
     "hide-cell"
    ]
   },
   "outputs": [],
   "source": [
    "\n",
    "# Benötigten Module laden #####################\n",
    "import pandas as pd\n",
    "import geopandas as gpd\n",
    "from matplotlib import pyplot as plt\n",
    "###############################################\n",
    "\n",
    "# Notwendige Functions definieren #############\n",
    "def offset_coordinate(old, distance = 100):\n",
    "    import random\n",
    "    new = old + random.normalvariate(0,distance)\n",
    "    return(new)\n",
    "###############################################\n",
    "\n",
    "# Daten Importieren ###########################\n",
    "zeckenstiche = pd.read_csv(\"zeckenstiche.csv\")\n",
    "wald = gpd.read_file(\"wald.gpkg\")\n",
    "###############################################\n",
    "\n",
    "# Daten Simulieren ############################\n",
    "monte_carlo = []\n",
    "for i in range(5):\n",
    "    zeckenstiche[\"x_sim\"] = zeckenstiche[\"x\"].apply(offset_coordinate)\n",
    "    zeckenstiche[\"y_sim\"] = zeckenstiche[\"y\"].apply(offset_coordinate)\n",
    "    monte_carlo.append(zeckenstiche.copy())\n",
    "###############################################"
   ]
  },
  {
   "cell_type": "markdown",
   "metadata": {},
   "source": [
    "## Übungen\n",
    "\n",
    "(ex-14-1)=\n",
    "### Übung 14.1 \n",
    "\n",
    "Wie iterieren wir über die Liste `monte_carlo`? Schaue dir nochmals {ref}`forloops-2` an und erstelle ein *For Loop* mit dem Platzhalter `sim` welche über die Liste `monte_carlo` iteriert. In jeder Iteration soll der Datentyp (`type`) von `sim` heraus gegeben werden (`print`). "
   ]
  },
  {
   "cell_type": "code",
   "execution_count": 3,
   "metadata": {
    "tags": [
     "remove-cell"
    ]
   },
   "outputs": [
    {
     "name": "stdout",
     "output_type": "stream",
     "text": [
      "<class 'pandas.core.frame.DataFrame'>\n",
      "<class 'pandas.core.frame.DataFrame'>\n",
      "<class 'pandas.core.frame.DataFrame'>\n",
      "<class 'pandas.core.frame.DataFrame'>\n",
      "<class 'pandas.core.frame.DataFrame'>\n"
     ]
    }
   ],
   "source": [
    "# Musterlösung\n",
    "\n",
    "for sim in monte_carlo:\n",
    "    print(type(sim))\n"
   ]
  },
  {
   "cell_type": "markdown",
   "metadata": {},
   "source": [
    "```python\n",
    "# Der Output sollte folgendermassen aussehen:\n",
    "\n",
    "<class 'pandas.core.frame.DataFrame'>\n",
    "<class 'pandas.core.frame.DataFrame'>\n",
    "<class 'pandas.core.frame.DataFrame'>\n",
    "<class 'pandas.core.frame.DataFrame'>\n",
    "<class 'pandas.core.frame.DataFrame'>\n",
    "```"
   ]
  },
  {
   "cell_type": "markdown",
   "metadata": {},
   "source": [
    "(ex-14-2)=\n",
    "### Übung 14.2\n",
    "\n",
    "Erweitere den erstellten *For Loop* so, dass in jeder Iteration `sim` in eine *GeoDataFrame* konvertieren wird (gespeichert innerhalb des Loops als `sim_gpd`). Schaue dir {ref}`chap-pythongis` an wenn du nicht mehr weisst, wie die Konvertierung *DataFrame* > *GeoDataFrame* geht.\n",
    "\n",
    "Zum Schluss des Loops soll der Datentyp von `sim_gpd` herausgegeben werden."
   ]
  },
  {
   "cell_type": "code",
   "execution_count": 7,
   "metadata": {
    "tags": [
     "remove-cell"
    ]
   },
   "outputs": [
    {
     "name": "stdout",
     "output_type": "stream",
     "text": [
      "      ID    accuracy        x        y         x_sim         y_sim  \\\n",
      "0   2550  439.128951  2681116  1250648  2.681081e+06  1.250701e+06   \n",
      "1  10437  301.748542  2681092  1250672  2.681027e+06  1.250676e+06   \n",
      "2   9174  301.748542  2681128  1250683  2.681099e+06  1.250777e+06   \n",
      "3   8773  301.748542  2681111  1250683  2.681085e+06  1.250559e+06   \n",
      "4   2764  301.748529  2681131  1250692  2.681317e+06  1.250629e+06   \n",
      "5   2513  301.748529  2681171  1250711  2.681120e+06  1.250715e+06   \n",
      "6   9185  301.748542  2681107  1250712  2.681138e+06  1.250689e+06   \n",
      "7  28521  301.748542  2681124  1250720  2.681289e+06  1.250726e+06   \n",
      "8  26745  301.748542  2681117  1250725  2.681098e+06  1.250835e+06   \n",
      "9  27391  301.748542  2681138  1250725  2.681155e+06  1.250867e+06   \n",
      "\n",
      "                          geometry  \n",
      "0  POINT (2681116.000 1250648.000)  \n",
      "1  POINT (2681092.000 1250672.000)  \n",
      "2  POINT (2681128.000 1250683.000)  \n",
      "3  POINT (2681111.000 1250683.000)  \n",
      "4  POINT (2681131.000 1250692.000)  \n",
      "5  POINT (2681171.000 1250711.000)  \n",
      "6  POINT (2681107.000 1250712.000)  \n",
      "7  POINT (2681124.000 1250720.000)  \n",
      "8  POINT (2681117.000 1250725.000)  \n",
      "9  POINT (2681138.000 1250725.000)  \n",
      "      ID    accuracy        x        y         x_sim         y_sim  \\\n",
      "0   2550  439.128951  2681116  1250648  2.681146e+06  1.250457e+06   \n",
      "1  10437  301.748542  2681092  1250672  2.681130e+06  1.250699e+06   \n",
      "2   9174  301.748542  2681128  1250683  2.681170e+06  1.250656e+06   \n",
      "3   8773  301.748542  2681111  1250683  2.681139e+06  1.250599e+06   \n",
      "4   2764  301.748529  2681131  1250692  2.681157e+06  1.250661e+06   \n",
      "5   2513  301.748529  2681171  1250711  2.681219e+06  1.250826e+06   \n",
      "6   9185  301.748542  2681107  1250712  2.681075e+06  1.250649e+06   \n",
      "7  28521  301.748542  2681124  1250720  2.681156e+06  1.250886e+06   \n",
      "8  26745  301.748542  2681117  1250725  2.681011e+06  1.250930e+06   \n",
      "9  27391  301.748542  2681138  1250725  2.681226e+06  1.250604e+06   \n",
      "\n",
      "                          geometry  \n",
      "0  POINT (2681116.000 1250648.000)  \n",
      "1  POINT (2681092.000 1250672.000)  \n",
      "2  POINT (2681128.000 1250683.000)  \n",
      "3  POINT (2681111.000 1250683.000)  \n",
      "4  POINT (2681131.000 1250692.000)  \n",
      "5  POINT (2681171.000 1250711.000)  \n",
      "6  POINT (2681107.000 1250712.000)  \n",
      "7  POINT (2681124.000 1250720.000)  \n",
      "8  POINT (2681117.000 1250725.000)  \n",
      "9  POINT (2681138.000 1250725.000)  \n",
      "      ID    accuracy        x        y         x_sim         y_sim  \\\n",
      "0   2550  439.128951  2681116  1250648  2.681106e+06  1.250720e+06   \n",
      "1  10437  301.748542  2681092  1250672  2.681194e+06  1.250820e+06   \n",
      "2   9174  301.748542  2681128  1250683  2.681068e+06  1.250701e+06   \n",
      "3   8773  301.748542  2681111  1250683  2.681252e+06  1.250581e+06   \n",
      "4   2764  301.748529  2681131  1250692  2.681144e+06  1.250690e+06   \n",
      "5   2513  301.748529  2681171  1250711  2.681283e+06  1.250762e+06   \n",
      "6   9185  301.748542  2681107  1250712  2.681064e+06  1.250766e+06   \n",
      "7  28521  301.748542  2681124  1250720  2.681222e+06  1.250501e+06   \n",
      "8  26745  301.748542  2681117  1250725  2.681096e+06  1.250821e+06   \n",
      "9  27391  301.748542  2681138  1250725  2.681068e+06  1.250705e+06   \n",
      "\n",
      "                          geometry  \n",
      "0  POINT (2681116.000 1250648.000)  \n",
      "1  POINT (2681092.000 1250672.000)  \n",
      "2  POINT (2681128.000 1250683.000)  \n",
      "3  POINT (2681111.000 1250683.000)  \n",
      "4  POINT (2681131.000 1250692.000)  \n",
      "5  POINT (2681171.000 1250711.000)  \n",
      "6  POINT (2681107.000 1250712.000)  \n",
      "7  POINT (2681124.000 1250720.000)  \n",
      "8  POINT (2681117.000 1250725.000)  \n",
      "9  POINT (2681138.000 1250725.000)  \n",
      "      ID    accuracy        x        y         x_sim         y_sim  \\\n",
      "0   2550  439.128951  2681116  1250648  2.681281e+06  1.250519e+06   \n",
      "1  10437  301.748542  2681092  1250672  2.681209e+06  1.250439e+06   \n",
      "2   9174  301.748542  2681128  1250683  2.681280e+06  1.250746e+06   \n",
      "3   8773  301.748542  2681111  1250683  2.681161e+06  1.250695e+06   \n",
      "4   2764  301.748529  2681131  1250692  2.681094e+06  1.250616e+06   \n",
      "5   2513  301.748529  2681171  1250711  2.681272e+06  1.250851e+06   \n",
      "6   9185  301.748542  2681107  1250712  2.681208e+06  1.250658e+06   \n",
      "7  28521  301.748542  2681124  1250720  2.681117e+06  1.250839e+06   \n",
      "8  26745  301.748542  2681117  1250725  2.680950e+06  1.250793e+06   \n",
      "9  27391  301.748542  2681138  1250725  2.681249e+06  1.250789e+06   \n",
      "\n",
      "                          geometry  \n",
      "0  POINT (2681116.000 1250648.000)  \n",
      "1  POINT (2681092.000 1250672.000)  \n",
      "2  POINT (2681128.000 1250683.000)  \n",
      "3  POINT (2681111.000 1250683.000)  \n",
      "4  POINT (2681131.000 1250692.000)  \n",
      "5  POINT (2681171.000 1250711.000)  \n",
      "6  POINT (2681107.000 1250712.000)  \n",
      "7  POINT (2681124.000 1250720.000)  \n",
      "8  POINT (2681117.000 1250725.000)  \n",
      "9  POINT (2681138.000 1250725.000)  \n",
      "      ID    accuracy        x        y         x_sim         y_sim  \\\n",
      "0   2550  439.128951  2681116  1250648  2.681054e+06  1.250474e+06   \n",
      "1  10437  301.748542  2681092  1250672  2.681154e+06  1.250775e+06   \n",
      "2   9174  301.748542  2681128  1250683  2.681182e+06  1.250686e+06   \n",
      "3   8773  301.748542  2681111  1250683  2.681116e+06  1.250612e+06   \n",
      "4   2764  301.748529  2681131  1250692  2.680948e+06  1.250641e+06   \n",
      "5   2513  301.748529  2681171  1250711  2.681187e+06  1.250771e+06   \n",
      "6   9185  301.748542  2681107  1250712  2.681104e+06  1.250731e+06   \n",
      "7  28521  301.748542  2681124  1250720  2.681187e+06  1.250704e+06   \n",
      "8  26745  301.748542  2681117  1250725  2.680969e+06  1.250783e+06   \n",
      "9  27391  301.748542  2681138  1250725  2.681171e+06  1.250728e+06   \n",
      "\n",
      "                          geometry  \n",
      "0  POINT (2681116.000 1250648.000)  \n",
      "1  POINT (2681092.000 1250672.000)  \n",
      "2  POINT (2681128.000 1250683.000)  \n",
      "3  POINT (2681111.000 1250683.000)  \n",
      "4  POINT (2681131.000 1250692.000)  \n",
      "5  POINT (2681171.000 1250711.000)  \n",
      "6  POINT (2681107.000 1250712.000)  \n",
      "7  POINT (2681124.000 1250720.000)  \n",
      "8  POINT (2681117.000 1250725.000)  \n",
      "9  POINT (2681138.000 1250725.000)  \n"
     ]
    }
   ],
   "source": [
    "# Musterlösung\n",
    "\n",
    "for sim in monte_carlo:\n",
    "    sim_gpd = gpd.GeoDataFrame(sim.copy(),geometry=gpd.points_from_xy(zeckenstiche['x'], zeckenstiche['y']),crs = 2056)"
   ]
  },
  {
   "cell_type": "markdown",
   "metadata": {},
   "source": [
    "```python\n",
    "# Der Output sollte folgendermassen aussehen:\n",
    "<class 'geopandas.geodataframe.GeoDataFrame'>\n",
    "<class 'geopandas.geodataframe.GeoDataFrame'>\n",
    "<class 'geopandas.geodataframe.GeoDataFrame'>\n",
    "<class 'geopandas.geodataframe.GeoDataFrame'>\n",
    "<class 'geopandas.geodataframe.GeoDataFrame'>\n",
    "```"
   ]
  },
  {
   "cell_type": "markdown",
   "metadata": {},
   "source": [
    "(ex-14-3)=\n",
    "### Übung 14.3\n",
    "\n",
    "Wie ermitteln wir nun für jeden simulierten Punk, ob er im Wald ist oder nicht? In GIS Terminologie müssen wir einen sogenannten \"*SpatialJoin*\" durchführen, wofür es in Geopandas eine entsprechende Funktion gibt ([`sjoin`](https://geopandas.org/reference/geopandas.sjoin.html)). \n",
    "\n",
    "In einem *SpatialJoin* werden Attribute von dem einen Datensatz aufgrund einer räumlichen Eigenschaft auf einen anderen Datensatz übertragen. In unserem Fall: Jedem simulierten Punkt sollte die Eigenschaft \"Wald: ja\" / \"Wald: nein\" aus `wald` zugewiesen werden.\n",
    "\n",
    "Test für dich `sjoin` (ausserhalb des Loops, siehe nachstehndes) und schaue dir den Output an, um ein Gefühl für diese Funktion zu bekommen. Integriere die Funktion anschliessend in deinen Loop indem du den Output in `sim_gpd_join` speicherst."
   ]
  },
  {
   "cell_type": "code",
   "execution_count": 118,
   "metadata": {},
   "outputs": [],
   "source": [
    "# So wird der SpatialJoin zwischen den \n",
    "# Simulierten Punkten und \"Wald\" durchgeführt\n",
    "sim_gpd_join = gpd.sjoin(sim_gpd,wald)"
   ]
  },
  {
   "cell_type": "code",
   "execution_count": 119,
   "metadata": {},
   "outputs": [
    {
     "data": {
      "text/html": [
       "<div>\n",
       "<style scoped>\n",
       "    .dataframe tbody tr th:only-of-type {\n",
       "        vertical-align: middle;\n",
       "    }\n",
       "\n",
       "    .dataframe tbody tr th {\n",
       "        vertical-align: top;\n",
       "    }\n",
       "\n",
       "    .dataframe thead th {\n",
       "        text-align: right;\n",
       "    }\n",
       "</style>\n",
       "<table border=\"1\" class=\"dataframe\">\n",
       "  <thead>\n",
       "    <tr style=\"text-align: right;\">\n",
       "      <th></th>\n",
       "      <th>ID</th>\n",
       "      <th>accuracy</th>\n",
       "      <th>x</th>\n",
       "      <th>y</th>\n",
       "      <th>x_sim</th>\n",
       "      <th>y_sim</th>\n",
       "      <th>geometry</th>\n",
       "    </tr>\n",
       "  </thead>\n",
       "  <tbody>\n",
       "    <tr>\n",
       "      <th>0</th>\n",
       "      <td>2550</td>\n",
       "      <td>439.128951</td>\n",
       "      <td>2681116</td>\n",
       "      <td>1250648</td>\n",
       "      <td>2.681165e+06</td>\n",
       "      <td>1.250749e+06</td>\n",
       "      <td>POINT (2681116.000 1250648.000)</td>\n",
       "    </tr>\n",
       "    <tr>\n",
       "      <th>1</th>\n",
       "      <td>10437</td>\n",
       "      <td>301.748542</td>\n",
       "      <td>2681092</td>\n",
       "      <td>1250672</td>\n",
       "      <td>2.681109e+06</td>\n",
       "      <td>1.250676e+06</td>\n",
       "      <td>POINT (2681092.000 1250672.000)</td>\n",
       "    </tr>\n",
       "    <tr>\n",
       "      <th>2</th>\n",
       "      <td>9174</td>\n",
       "      <td>301.748542</td>\n",
       "      <td>2681128</td>\n",
       "      <td>1250683</td>\n",
       "      <td>2.681051e+06</td>\n",
       "      <td>1.250678e+06</td>\n",
       "      <td>POINT (2681128.000 1250683.000)</td>\n",
       "    </tr>\n",
       "    <tr>\n",
       "      <th>3</th>\n",
       "      <td>8773</td>\n",
       "      <td>301.748542</td>\n",
       "      <td>2681111</td>\n",
       "      <td>1250683</td>\n",
       "      <td>2.681134e+06</td>\n",
       "      <td>1.250732e+06</td>\n",
       "      <td>POINT (2681111.000 1250683.000)</td>\n",
       "    </tr>\n",
       "    <tr>\n",
       "      <th>4</th>\n",
       "      <td>2764</td>\n",
       "      <td>301.748529</td>\n",
       "      <td>2681131</td>\n",
       "      <td>1250692</td>\n",
       "      <td>2.680987e+06</td>\n",
       "      <td>1.250756e+06</td>\n",
       "      <td>POINT (2681131.000 1250692.000)</td>\n",
       "    </tr>\n",
       "    <tr>\n",
       "      <th>5</th>\n",
       "      <td>2513</td>\n",
       "      <td>301.748529</td>\n",
       "      <td>2681171</td>\n",
       "      <td>1250711</td>\n",
       "      <td>2.681024e+06</td>\n",
       "      <td>1.250663e+06</td>\n",
       "      <td>POINT (2681171.000 1250711.000)</td>\n",
       "    </tr>\n",
       "    <tr>\n",
       "      <th>6</th>\n",
       "      <td>9185</td>\n",
       "      <td>301.748542</td>\n",
       "      <td>2681107</td>\n",
       "      <td>1250712</td>\n",
       "      <td>2.681014e+06</td>\n",
       "      <td>1.250818e+06</td>\n",
       "      <td>POINT (2681107.000 1250712.000)</td>\n",
       "    </tr>\n",
       "    <tr>\n",
       "      <th>7</th>\n",
       "      <td>28521</td>\n",
       "      <td>301.748542</td>\n",
       "      <td>2681124</td>\n",
       "      <td>1250720</td>\n",
       "      <td>2.681213e+06</td>\n",
       "      <td>1.250684e+06</td>\n",
       "      <td>POINT (2681124.000 1250720.000)</td>\n",
       "    </tr>\n",
       "    <tr>\n",
       "      <th>8</th>\n",
       "      <td>26745</td>\n",
       "      <td>301.748542</td>\n",
       "      <td>2681117</td>\n",
       "      <td>1250725</td>\n",
       "      <td>2.681075e+06</td>\n",
       "      <td>1.250831e+06</td>\n",
       "      <td>POINT (2681117.000 1250725.000)</td>\n",
       "    </tr>\n",
       "    <tr>\n",
       "      <th>9</th>\n",
       "      <td>27391</td>\n",
       "      <td>301.748542</td>\n",
       "      <td>2681138</td>\n",
       "      <td>1250725</td>\n",
       "      <td>2.680907e+06</td>\n",
       "      <td>1.250966e+06</td>\n",
       "      <td>POINT (2681138.000 1250725.000)</td>\n",
       "    </tr>\n",
       "  </tbody>\n",
       "</table>\n",
       "</div>"
      ],
      "text/plain": [
       "      ID    accuracy        x        y         x_sim         y_sim  \\\n",
       "0   2550  439.128951  2681116  1250648  2.681165e+06  1.250749e+06   \n",
       "1  10437  301.748542  2681092  1250672  2.681109e+06  1.250676e+06   \n",
       "2   9174  301.748542  2681128  1250683  2.681051e+06  1.250678e+06   \n",
       "3   8773  301.748542  2681111  1250683  2.681134e+06  1.250732e+06   \n",
       "4   2764  301.748529  2681131  1250692  2.680987e+06  1.250756e+06   \n",
       "5   2513  301.748529  2681171  1250711  2.681024e+06  1.250663e+06   \n",
       "6   9185  301.748542  2681107  1250712  2.681014e+06  1.250818e+06   \n",
       "7  28521  301.748542  2681124  1250720  2.681213e+06  1.250684e+06   \n",
       "8  26745  301.748542  2681117  1250725  2.681075e+06  1.250831e+06   \n",
       "9  27391  301.748542  2681138  1250725  2.680907e+06  1.250966e+06   \n",
       "\n",
       "                          geometry  \n",
       "0  POINT (2681116.000 1250648.000)  \n",
       "1  POINT (2681092.000 1250672.000)  \n",
       "2  POINT (2681128.000 1250683.000)  \n",
       "3  POINT (2681111.000 1250683.000)  \n",
       "4  POINT (2681131.000 1250692.000)  \n",
       "5  POINT (2681171.000 1250711.000)  \n",
       "6  POINT (2681107.000 1250712.000)  \n",
       "7  POINT (2681124.000 1250720.000)  \n",
       "8  POINT (2681117.000 1250725.000)  \n",
       "9  POINT (2681138.000 1250725.000)  "
      ]
     },
     "execution_count": 119,
     "metadata": {},
     "output_type": "execute_result"
    }
   ],
   "source": [
    "# Musterlösung\n",
    "\n",
    "for sim in monte_carlo:\n",
    "    sim_gpd = gpd.GeoDataFrame(sim,geometry=gpd.points_from_xy(zeckenstiche['x'], zeckenstiche['y']),crs = 2056)\n",
    "    sim_gpd_join = gpd.sjoin(sim_gpd,wald)"
   ]
  },
  {
   "cell_type": "markdown",
   "metadata": {},
   "source": [
    "### Übung 14.4\n",
    "\n",
    "Nun wollen wir in jeder Iteration wissen, wie viele Zellen der Spalte \"Wald_text\" von `sim_gpd_join` den Wert \"ja\" enthalten. Dies erreichen wir, indem wir die entsprechende Spalte mit \"ja\" vergleichen (`sim_gpd_join[\"Wald_text\"] == \"ja\"`), was für jede Zeile einen boolschen Wert `True` oder `False` zurück gibt. Die Summe von `True`-Werten erhält man über die Summe, da jedes `True` mit `1` und jedes `False` mit `0` interpretiert wird (analog R).\n",
    "\n",
    "Integriere diese Operation in deinen Loop und speichere den Output als `anzahl_ja`."
   ]
  },
  {
   "cell_type": "code",
   "execution_count": 94,
   "metadata": {},
   "outputs": [
    {
     "data": {
      "text/plain": [
       "5"
      ]
     },
     "execution_count": 94,
     "metadata": {},
     "output_type": "execute_result"
    }
   ],
   "source": [
    "sum(sim_gpd_join[\"Wald_text\"] == \"ja\")"
   ]
  },
  {
   "cell_type": "code",
   "execution_count": 95,
   "metadata": {
    "tags": [
     "remove-cell"
    ]
   },
   "outputs": [],
   "source": [
    "# Musterlösung\n",
    "\n",
    "for sim in monte_carlo:\n",
    "    sim_gpd = gpd.GeoDataFrame(sim,geometry=gpd.points_from_xy(zeckenstiche['x'], zeckenstiche['y']),crs = 2056)\n",
    "    sim_gpd_join = gpd.sjoin(sim_gpd,wald)\n",
    "    anzahl_ja = sum(sim_gpd_join[\"Wald_text\"] == \"ja\")"
   ]
  },
  {
   "cell_type": "markdown",
   "metadata": {},
   "source": [
    "### Übung 14.5\n",
    "\n",
    "Wir haben nun die Anzahl der Punkte pro Interation, die im Wald sind (`anzahl_ja`). Wichtiger wäre aber der *Anteil*. Berechne der Anteil indem du `anzahl_ja` noch durch die Anzahl Zeilen (`len`) von `sim_gpd_join` dividierst. Integriere diesen Schritt in deinen Loop und speichere den Output als `anteil_ja`."
   ]
  },
  {
   "cell_type": "code",
   "execution_count": 96,
   "metadata": {},
   "outputs": [],
   "source": [
    "# Musterlösung\n",
    "\n",
    "for sim in monte_carlo:\n",
    "    sim_gpd = gpd.GeoDataFrame(sim,geometry=gpd.points_from_xy(zeckenstiche['x'], zeckenstiche['y']),crs = 2056)\n",
    "    sim_gpd_join = gpd.sjoin(sim_gpd,wald)\n",
    "    anzahl_ja = sum(sim_gpd_join[\"Wald_text\"] == \"ja\")\n",
    "    anteil_ja = anzahl_ja/len(sim_gpd_join)"
   ]
  },
  {
   "cell_type": "markdown",
   "metadata": {},
   "source": [
    "### Übung 14.6\n",
    "\n",
    "Speichere `anteil_ja` in einer Liste mit dem Namen `anteile_ja` (mehrzahl!). Schaue dir {ref}`forloops-2` an wenn du nicht mehr weisst, wie das geht.\n"
   ]
  },
  {
   "cell_type": "code",
   "execution_count": 105,
   "metadata": {},
   "outputs": [
    {
     "data": {
      "text/plain": [
       "[      ID    accuracy        x        y         x_sim         y_sim  \\\n",
       " 0   2550  439.128951  2681116  1250648  2.681201e+06  1.250627e+06   \n",
       " 1  10437  301.748542  2681092  1250672  2.681226e+06  1.250704e+06   \n",
       " 2   9174  301.748542  2681128  1250683  2.681239e+06  1.250546e+06   \n",
       " 3   8773  301.748542  2681111  1250683  2.681186e+06  1.250748e+06   \n",
       " 4   2764  301.748529  2681131  1250692  2.681197e+06  1.250696e+06   \n",
       " 5   2513  301.748529  2681171  1250711  2.681186e+06  1.250737e+06   \n",
       " 6   9185  301.748542  2681107  1250712  2.681279e+06  1.250629e+06   \n",
       " 7  28521  301.748542  2681124  1250720  2.681013e+06  1.250693e+06   \n",
       " 8  26745  301.748542  2681117  1250725  2.681267e+06  1.250679e+06   \n",
       " 9  27391  301.748542  2681138  1250725  2.681238e+06  1.250681e+06   \n",
       " \n",
       "                           geometry  \n",
       " 0  POINT (2681116.000 1250648.000)  \n",
       " 1  POINT (2681092.000 1250672.000)  \n",
       " 2  POINT (2681128.000 1250683.000)  \n",
       " 3  POINT (2681111.000 1250683.000)  \n",
       " 4  POINT (2681131.000 1250692.000)  \n",
       " 5  POINT (2681171.000 1250711.000)  \n",
       " 6  POINT (2681107.000 1250712.000)  \n",
       " 7  POINT (2681124.000 1250720.000)  \n",
       " 8  POINT (2681117.000 1250725.000)  \n",
       " 9  POINT (2681138.000 1250725.000)  ,\n",
       "       ID    accuracy        x        y         x_sim         y_sim  \\\n",
       " 0   2550  439.128951  2681116  1250648  2.681141e+06  1.250710e+06   \n",
       " 1  10437  301.748542  2681092  1250672  2.681085e+06  1.250677e+06   \n",
       " 2   9174  301.748542  2681128  1250683  2.680970e+06  1.250675e+06   \n",
       " 3   8773  301.748542  2681111  1250683  2.681238e+06  1.250704e+06   \n",
       " 4   2764  301.748529  2681131  1250692  2.680998e+06  1.250741e+06   \n",
       " 5   2513  301.748529  2681171  1250711  2.681159e+06  1.250839e+06   \n",
       " 6   9185  301.748542  2681107  1250712  2.681052e+06  1.250724e+06   \n",
       " 7  28521  301.748542  2681124  1250720  2.681255e+06  1.250591e+06   \n",
       " 8  26745  301.748542  2681117  1250725  2.681197e+06  1.250677e+06   \n",
       " 9  27391  301.748542  2681138  1250725  2.681003e+06  1.250779e+06   \n",
       " \n",
       "                           geometry  \n",
       " 0  POINT (2681116.000 1250648.000)  \n",
       " 1  POINT (2681092.000 1250672.000)  \n",
       " 2  POINT (2681128.000 1250683.000)  \n",
       " 3  POINT (2681111.000 1250683.000)  \n",
       " 4  POINT (2681131.000 1250692.000)  \n",
       " 5  POINT (2681171.000 1250711.000)  \n",
       " 6  POINT (2681107.000 1250712.000)  \n",
       " 7  POINT (2681124.000 1250720.000)  \n",
       " 8  POINT (2681117.000 1250725.000)  \n",
       " 9  POINT (2681138.000 1250725.000)  ,\n",
       "       ID    accuracy        x        y         x_sim         y_sim  \\\n",
       " 0   2550  439.128951  2681116  1250648  2.681311e+06  1.250615e+06   \n",
       " 1  10437  301.748542  2681092  1250672  2.680847e+06  1.250591e+06   \n",
       " 2   9174  301.748542  2681128  1250683  2.681190e+06  1.250673e+06   \n",
       " 3   8773  301.748542  2681111  1250683  2.681043e+06  1.250791e+06   \n",
       " 4   2764  301.748529  2681131  1250692  2.681148e+06  1.250688e+06   \n",
       " 5   2513  301.748529  2681171  1250711  2.681031e+06  1.250680e+06   \n",
       " 6   9185  301.748542  2681107  1250712  2.681111e+06  1.250841e+06   \n",
       " 7  28521  301.748542  2681124  1250720  2.681171e+06  1.250676e+06   \n",
       " 8  26745  301.748542  2681117  1250725  2.680934e+06  1.250701e+06   \n",
       " 9  27391  301.748542  2681138  1250725  2.681128e+06  1.250554e+06   \n",
       " \n",
       "                           geometry  \n",
       " 0  POINT (2681116.000 1250648.000)  \n",
       " 1  POINT (2681092.000 1250672.000)  \n",
       " 2  POINT (2681128.000 1250683.000)  \n",
       " 3  POINT (2681111.000 1250683.000)  \n",
       " 4  POINT (2681131.000 1250692.000)  \n",
       " 5  POINT (2681171.000 1250711.000)  \n",
       " 6  POINT (2681107.000 1250712.000)  \n",
       " 7  POINT (2681124.000 1250720.000)  \n",
       " 8  POINT (2681117.000 1250725.000)  \n",
       " 9  POINT (2681138.000 1250725.000)  ,\n",
       "       ID    accuracy        x        y         x_sim         y_sim  \\\n",
       " 0   2550  439.128951  2681116  1250648  2.681151e+06  1.250652e+06   \n",
       " 1  10437  301.748542  2681092  1250672  2.681065e+06  1.250683e+06   \n",
       " 2   9174  301.748542  2681128  1250683  2.680957e+06  1.250722e+06   \n",
       " 3   8773  301.748542  2681111  1250683  2.681099e+06  1.250475e+06   \n",
       " 4   2764  301.748529  2681131  1250692  2.681197e+06  1.250527e+06   \n",
       " 5   2513  301.748529  2681171  1250711  2.681351e+06  1.250769e+06   \n",
       " 6   9185  301.748542  2681107  1250712  2.681016e+06  1.250667e+06   \n",
       " 7  28521  301.748542  2681124  1250720  2.681230e+06  1.250714e+06   \n",
       " 8  26745  301.748542  2681117  1250725  2.681083e+06  1.250744e+06   \n",
       " 9  27391  301.748542  2681138  1250725  2.681170e+06  1.250710e+06   \n",
       " \n",
       "                           geometry  \n",
       " 0  POINT (2681116.000 1250648.000)  \n",
       " 1  POINT (2681092.000 1250672.000)  \n",
       " 2  POINT (2681128.000 1250683.000)  \n",
       " 3  POINT (2681111.000 1250683.000)  \n",
       " 4  POINT (2681131.000 1250692.000)  \n",
       " 5  POINT (2681171.000 1250711.000)  \n",
       " 6  POINT (2681107.000 1250712.000)  \n",
       " 7  POINT (2681124.000 1250720.000)  \n",
       " 8  POINT (2681117.000 1250725.000)  \n",
       " 9  POINT (2681138.000 1250725.000)  ,\n",
       "       ID    accuracy        x        y         x_sim         y_sim  \\\n",
       " 0   2550  439.128951  2681116  1250648  2.681069e+06  1.250625e+06   \n",
       " 1  10437  301.748542  2681092  1250672  2.680991e+06  1.250437e+06   \n",
       " 2   9174  301.748542  2681128  1250683  2.681365e+06  1.250811e+06   \n",
       " 3   8773  301.748542  2681111  1250683  2.681093e+06  1.250748e+06   \n",
       " 4   2764  301.748529  2681131  1250692  2.681082e+06  1.250571e+06   \n",
       " 5   2513  301.748529  2681171  1250711  2.681091e+06  1.250796e+06   \n",
       " 6   9185  301.748542  2681107  1250712  2.681170e+06  1.250621e+06   \n",
       " 7  28521  301.748542  2681124  1250720  2.681088e+06  1.250671e+06   \n",
       " 8  26745  301.748542  2681117  1250725  2.681150e+06  1.250896e+06   \n",
       " 9  27391  301.748542  2681138  1250725  2.681048e+06  1.250694e+06   \n",
       " \n",
       "                           geometry  \n",
       " 0  POINT (2681116.000 1250648.000)  \n",
       " 1  POINT (2681092.000 1250672.000)  \n",
       " 2  POINT (2681128.000 1250683.000)  \n",
       " 3  POINT (2681111.000 1250683.000)  \n",
       " 4  POINT (2681131.000 1250692.000)  \n",
       " 5  POINT (2681171.000 1250711.000)  \n",
       " 6  POINT (2681107.000 1250712.000)  \n",
       " 7  POINT (2681124.000 1250720.000)  \n",
       " 8  POINT (2681117.000 1250725.000)  \n",
       " 9  POINT (2681138.000 1250725.000)  ]"
      ]
     },
     "execution_count": 105,
     "metadata": {},
     "output_type": "execute_result"
    }
   ],
   "source": [
    "ja_anteile = []\n",
    "for sim in monte_carlo:\n",
    "    sim_gpd = gpd.GeoDataFrame(sim,geometry=gpd.points_from_xy(zeckenstiche['x'], zeckenstiche['y']),crs = 2056)\n",
    "    sim_gpd_join = gpd.sjoin(sim_gpd,wald)\n",
    "    anzahl_ja = sum(sim_gpd_join[\"Wald_text\"] == \"ja\")\n",
    "    anteil_ja = anzahl_ja/len(sim_gpd_join)\n",
    "    ja_anteile.append(anteil_ja)\n",
    "\n",
    "\n",
    "    \n",
    "len(monte_carlo)\n",
    "monte_carlo"
   ]
  },
  {
   "cell_type": "code",
   "execution_count": null,
   "metadata": {},
   "outputs": [],
   "source": []
  },
  {
   "cell_type": "markdown",
   "metadata": {},
   "source": [
    "%: Mittelwerte Visualisieren\n",
    "### Übung 14.3\n",
    "\n",
    "Gratuliere! Wenn du an diesem Punkt angekommen bist hast du eine ganze Monte Carlo Simulation von A bis Z mit Python durchgeführt. Von hier an steht dir der Weg frei für noch komplexere Analysen. Zum Abschluss kannst du die Mittelwerte wir nun auf einfache Weise visualisieren. Versuche dabei die Methods `plot()` und `plot.box()` sowie `plot.hist()`."
   ]
  },
  {
   "cell_type": "code",
   "execution_count": 98,
   "metadata": {
    "tags": [
     "hide-input"
    ]
   },
   "outputs": [],
   "source": [
    "#anteil_ja.plot()"
   ]
  },
  {
   "cell_type": "code",
   "execution_count": 99,
   "metadata": {
    "tags": [
     "hide-input"
    ]
   },
   "outputs": [],
   "source": [
    "#anteil_ja.plot.box()"
   ]
  },
  {
   "cell_type": "code",
   "execution_count": 100,
   "metadata": {
    "tags": [
     "hide-input"
    ]
   },
   "outputs": [],
   "source": [
    "#anteil_ja.plot.hist()"
   ]
  }
 ],
 "metadata": {
  "kernelspec": {
   "display_name": "Python 3",
   "language": "python",
   "name": "python3"
  },
  "language_info": {
   "codemirror_mode": {
    "name": "ipython",
    "version": 3
   },
   "file_extension": ".py",
   "mimetype": "text/x-python",
   "name": "python",
   "nbconvert_exporter": "python",
   "pygments_lexer": "ipython3",
   "version": "3.7.8"
  }
 },
 "nbformat": 4,
 "nbformat_minor": 4
}
