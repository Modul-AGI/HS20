{
 "cells": [
  {
   "cell_type": "markdown",
   "metadata": {},
   "source": [
    "# (Geo-) Datenbanken I\n",
    "\n",
    "\n",
    "```{admonition} Übungsziele\n",
    ":class: attention\n",
    "\n",
    "- kennen spezifische Fachbegriffe (DB, DBS, DBMS, DBMS)\n",
    "- kennen die Definition eines DBMS\n",
    "- können allgemeine Anforderungen an ein DBMS erklären\n",
    "- können Gründe benennen um ein DBMS einzusetzen\n",
    "- wissen was ein relationales Datenmodell ist\n",
    "- können die Begriffe konzeptionelles und logisches Datenmodell erklären\n",
    "- verstehen was Redundanzfrei, Datenkonsistenz und Normalisierung ist\n",
    "- verstehen was Beziehungen/Kardinalitäten in Datenbanken sind\n",
    "- können ein konzeptionelles und logisches Datenmodell entwerfen\n",
    "```"
   ]
  }
 ],
 "metadata": {
  "kernelspec": {
   "display_name": "Python 3",
   "language": "python",
   "name": "python3"
  },
  "language_info": {
   "codemirror_mode": {
    "name": "ipython",
    "version": 3
   },
   "file_extension": ".py",
   "mimetype": "text/x-python",
   "name": "python",
   "nbconvert_exporter": "python",
   "pygments_lexer": "ipython3",
   "version": "3.7.8"
  }
 },
 "nbformat": 4,
 "nbformat_minor": 4
}
